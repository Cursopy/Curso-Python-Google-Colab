{
  "nbformat": 4,
  "nbformat_minor": 0,
  "metadata": {
    "colab": {
      "name": "Variables.ipynb",
      "provenance": [],
      "collapsed_sections": [],
      "authorship_tag": "ABX9TyMzwJhTFe2PbfPZPNdQRkrm",
      "include_colab_link": true
    },
    "kernelspec": {
      "name": "python3",
      "display_name": "Python 3"
    }
  },
  "cells": [
    {
      "cell_type": "markdown",
      "metadata": {
        "id": "view-in-github",
        "colab_type": "text"
      },
      "source": [
        "<a href=\"https://colab.research.google.com/github/Cursopy/Curso-Python-Google-Colab/blob/master/Variables.ipynb\" target=\"_parent\"><img src=\"https://colab.research.google.com/assets/colab-badge.svg\" alt=\"Open In Colab\"/></a>"
      ]
    },
    {
      "cell_type": "markdown",
      "metadata": {
        "id": "w1mqFIJQs0LE",
        "colab_type": "text"
      },
      "source": [
        "|  Tipo de Variable  | Tipo de Variable (inglés) | type() |\n",
        "|:------------------:|:-------------------------:|:------:|\n",
        "|       Entero       |          Integer          |   int  |\n",
        "|   Punto flotante   |      Floating points      |  float |\n",
        "| Cadena de Caracter |           String          |   str  |\n",
        "|       Listas       |           Lists           |  list  |\n",
        "|    Diccionarios    |        Dictionaries       |  dict  |\n",
        "|       Tuplas       |           Tuples          |   tuple|\n",
        "|        Sets        |            Sets           |   set  |\n",
        "|     Dato lógico    |          Booleans         |  bool  |"
      ]
    },
    {
      "cell_type": "markdown",
      "metadata": {
        "id": "Eao2Kcfut41T",
        "colab_type": "text"
      },
      "source": [
        "- Los tipos están asociados con los valores, no con la variable en sí.\n",
        "\n",
        "- Una misma variable puede almacenar múltiples tipos de datos.\n",
        "\n",
        "- NO es necesario especificar el tipo de variable."
      ]
    },
    {
      "cell_type": "markdown",
      "metadata": {
        "id": "SYCjQwKlt83E",
        "colab_type": "text"
      },
      "source": [
        "*   No se pueden usar nombres restringidos por Python.\n",
        "*   No se puede comenzar con un número o un símbolo."
      ]
    },
    {
      "cell_type": "markdown",
      "metadata": {
        "id": "hCYOH36st9-z",
        "colab_type": "text"
      },
      "source": [
        "- Se recomienda usar el camelCase para nombrar variables. \n",
        "- Las constantes se escriben complemente en mayúsculas y separados por guiones bajos."
      ]
    },
    {
      "cell_type": "code",
      "metadata": {
        "id": "WySAkrs0u3_j",
        "colab_type": "code",
        "colab": {}
      },
      "source": [
        "numero = 1234"
      ],
      "execution_count": null,
      "outputs": []
    },
    {
      "cell_type": "code",
      "metadata": {
        "id": "Y1da1kNBv08O",
        "colab_type": "code",
        "colab": {
          "base_uri": "https://localhost:8080/",
          "height": 35
        },
        "outputId": "58ead514-b997-4979-d38a-b38f574b024b"
      },
      "source": [
        "type(numero)"
      ],
      "execution_count": null,
      "outputs": [
        {
          "output_type": "execute_result",
          "data": {
            "text/plain": [
              "int"
            ]
          },
          "metadata": {
            "tags": []
          },
          "execution_count": 9
        }
      ]
    },
    {
      "cell_type": "code",
      "metadata": {
        "id": "sfO68Nb4v3h7",
        "colab_type": "code",
        "colab": {}
      },
      "source": [
        "numero = 123.456"
      ],
      "execution_count": null,
      "outputs": []
    },
    {
      "cell_type": "code",
      "metadata": {
        "id": "7dppf1RNwFkT",
        "colab_type": "code",
        "colab": {
          "base_uri": "https://localhost:8080/",
          "height": 35
        },
        "outputId": "74c872e1-5550-44b8-9730-20d97cc56426"
      },
      "source": [
        "type(numero)"
      ],
      "execution_count": null,
      "outputs": [
        {
          "output_type": "execute_result",
          "data": {
            "text/plain": [
              "float"
            ]
          },
          "metadata": {
            "tags": []
          },
          "execution_count": 11
        }
      ]
    },
    {
      "cell_type": "code",
      "metadata": {
        "id": "IBTUqWeAwGvD",
        "colab_type": "code",
        "colab": {}
      },
      "source": [
        "# 1numero = 123"
      ],
      "execution_count": null,
      "outputs": []
    },
    {
      "cell_type": "code",
      "metadata": {
        "id": "eBEzCUxowcyk",
        "colab_type": "code",
        "colab": {}
      },
      "source": [
        "# $numero = 123"
      ],
      "execution_count": null,
      "outputs": []
    },
    {
      "cell_type": "code",
      "metadata": {
        "id": "k13RZEOewf2E",
        "colab_type": "code",
        "colab": {}
      },
      "source": [
        "numeroDecimal = 12.34"
      ],
      "execution_count": null,
      "outputs": []
    },
    {
      "cell_type": "code",
      "metadata": {
        "id": "GJyzhuSyww2T",
        "colab_type": "code",
        "colab": {}
      },
      "source": [
        "PI = 3.1415\n",
        "ACELERACION_GRAVEDAD = 9.8"
      ],
      "execution_count": null,
      "outputs": []
    },
    {
      "cell_type": "code",
      "metadata": {
        "id": "6x99lO-vxKSD",
        "colab_type": "code",
        "colab": {
          "base_uri": "https://localhost:8080/",
          "height": 35
        },
        "outputId": "b7dcb834-06c9-4a8e-d052-14c8be3c2f82"
      },
      "source": [
        "nombre = 'Evelio'\n",
        "type(nombre)"
      ],
      "execution_count": null,
      "outputs": [
        {
          "output_type": "execute_result",
          "data": {
            "text/plain": [
              "str"
            ]
          },
          "metadata": {
            "tags": []
          },
          "execution_count": 16
        }
      ]
    },
    {
      "cell_type": "code",
      "metadata": {
        "id": "haP6DwfPxh1L",
        "colab_type": "code",
        "colab": {}
      },
      "source": [
        "lista = [1, 2, 3, 4, 'engiber']"
      ],
      "execution_count": null,
      "outputs": []
    },
    {
      "cell_type": "code",
      "metadata": {
        "id": "jAhgjkUpxyDz",
        "colab_type": "code",
        "colab": {
          "base_uri": "https://localhost:8080/",
          "height": 35
        },
        "outputId": "ad7a9e5e-2f46-4be7-9b3d-3d55d8083c51"
      },
      "source": [
        "type(lista)"
      ],
      "execution_count": null,
      "outputs": [
        {
          "output_type": "execute_result",
          "data": {
            "text/plain": [
              "list"
            ]
          },
          "metadata": {
            "tags": []
          },
          "execution_count": 18
        }
      ]
    },
    {
      "cell_type": "code",
      "metadata": {
        "id": "48XNgwgbxy-T",
        "colab_type": "code",
        "colab": {}
      },
      "source": [
        "diccionario = {'numero': 123, 'nombre': 'selene'}"
      ],
      "execution_count": null,
      "outputs": []
    },
    {
      "cell_type": "code",
      "metadata": {
        "id": "NT97M-NryLYz",
        "colab_type": "code",
        "colab": {
          "base_uri": "https://localhost:8080/",
          "height": 35
        },
        "outputId": "2b55fd24-eee6-4e24-dae2-dbc61bb4822d"
      },
      "source": [
        "type(diccionario)"
      ],
      "execution_count": null,
      "outputs": [
        {
          "output_type": "execute_result",
          "data": {
            "text/plain": [
              "dict"
            ]
          },
          "metadata": {
            "tags": []
          },
          "execution_count": 20
        }
      ]
    },
    {
      "cell_type": "code",
      "metadata": {
        "id": "hxrSut4gyMuM",
        "colab_type": "code",
        "colab": {}
      },
      "source": [
        "tupla = (1, 2, 3, 'hola', 1.34)"
      ],
      "execution_count": null,
      "outputs": []
    },
    {
      "cell_type": "code",
      "metadata": {
        "id": "KNu4hIi7yVoD",
        "colab_type": "code",
        "colab": {
          "base_uri": "https://localhost:8080/",
          "height": 35
        },
        "outputId": "b3e772b7-f626-4c58-dd04-86b0496f284a"
      },
      "source": [
        "type(tupla)"
      ],
      "execution_count": null,
      "outputs": [
        {
          "output_type": "execute_result",
          "data": {
            "text/plain": [
              "tuple"
            ]
          },
          "metadata": {
            "tags": []
          },
          "execution_count": 22
        }
      ]
    },
    {
      "cell_type": "code",
      "metadata": {
        "id": "pvJGgYSNy_fK",
        "colab_type": "code",
        "colab": {
          "base_uri": "https://localhost:8080/",
          "height": 35
        },
        "outputId": "213fe9c8-bcdd-4fac-8e73-8a8a872e3f37"
      },
      "source": [
        "lista = [1, 1, 2, 3, 4, 5, 5, 'hola', 'hola']\n",
        "set(lista)"
      ],
      "execution_count": null,
      "outputs": [
        {
          "output_type": "execute_result",
          "data": {
            "text/plain": [
              "{1, 2, 3, 4, 5, 'hola'}"
            ]
          },
          "metadata": {
            "tags": []
          },
          "execution_count": 31
        }
      ]
    },
    {
      "cell_type": "code",
      "metadata": {
        "id": "Y9U2EfH2zVsz",
        "colab_type": "code",
        "colab": {}
      },
      "source": [
        "boleana = True"
      ],
      "execution_count": null,
      "outputs": []
    },
    {
      "cell_type": "code",
      "metadata": {
        "id": "yJKxMF5BzfPr",
        "colab_type": "code",
        "colab": {
          "base_uri": "https://localhost:8080/",
          "height": 35
        },
        "outputId": "8bfa922f-e5cc-4ab6-9154-425d4c1f3116"
      },
      "source": [
        "type(boleana)"
      ],
      "execution_count": null,
      "outputs": [
        {
          "output_type": "execute_result",
          "data": {
            "text/plain": [
              "bool"
            ]
          },
          "metadata": {
            "tags": []
          },
          "execution_count": 33
        }
      ]
    },
    {
      "cell_type": "code",
      "metadata": {
        "id": "iOTLFmwwzjCD",
        "colab_type": "code",
        "colab": {
          "base_uri": "https://localhost:8080/",
          "height": 35
        },
        "outputId": "9220ee4b-2418-48e7-8ec7-5c7851d93078"
      },
      "source": [
        "boleana = False\n",
        "type(boleana)"
      ],
      "execution_count": null,
      "outputs": [
        {
          "output_type": "execute_result",
          "data": {
            "text/plain": [
              "bool"
            ]
          },
          "metadata": {
            "tags": []
          },
          "execution_count": 35
        }
      ]
    }
  ]
}